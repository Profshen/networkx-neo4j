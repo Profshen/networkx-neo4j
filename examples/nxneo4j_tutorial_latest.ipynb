{
 "cells": [
  {
   "cell_type": "markdown",
   "metadata": {},
   "source": [
    "# Welcome to nxneo4j!\n",
    "#### nxneo4j is a library that enables you to use networkX type of commands to interact with Neo4j. "
   ]
  },
  {
   "cell_type": "markdown",
   "metadata": {},
   "source": [
    "### _Latest version is 0.0.3_\n",
    "If not already installed, install the latest version like this:"
   ]
  },
  {
   "cell_type": "code",
   "execution_count": null,
   "metadata": {},
   "outputs": [],
   "source": [
    "! pip uninstall -y networkx-neo4j #remove the old installation"
   ]
  },
  {
   "cell_type": "code",
   "execution_count": null,
   "metadata": {},
   "outputs": [],
   "source": [
    "! pip install git+https://github.com/ybaktir/networkx-neo4j #install the latest one"
   ]
  },
  {
   "cell_type": "code",
   "execution_count": 1,
   "metadata": {
    "scrolled": true
   },
   "outputs": [
    {
     "name": "stdout",
     "output_type": "stream",
     "text": [
      "Last run on: 2020-08-29 05:39:20 ('CST', 'CDT')\n"
     ]
    }
   ],
   "source": [
    "import datetime, time\n",
    "print ('Last run on: ' + datetime.datetime.now().strftime(\"%Y-%m-%d %H:%M:%S\") + ' ' + repr(time.tzname))"
   ]
  },
  {
   "cell_type": "markdown",
   "metadata": {},
   "source": [
    "## Connect to Neo4j"
   ]
  },
  {
   "cell_type": "code",
   "execution_count": 2,
   "metadata": {},
   "outputs": [],
   "source": [
    "from neo4j import GraphDatabase"
   ]
  },
  {
   "cell_type": "code",
   "execution_count": 3,
   "metadata": {},
   "outputs": [],
   "source": [
    "driver = GraphDatabase.driver(uri=\"bolt://localhost:11003\",auth=(\"neo4j\",\"your_password\"))\n",
    "                              #OR \"bolt://localhost:7673\"\n",
    "                              #OR the cloud url"
   ]
  },
  {
   "cell_type": "code",
   "execution_count": 4,
   "metadata": {},
   "outputs": [],
   "source": [
    "import nxneo4j as nx"
   ]
  },
  {
   "cell_type": "code",
   "execution_count": 5,
   "metadata": {},
   "outputs": [],
   "source": [
    "G = nx.Graph(driver)"
   ]
  },
  {
   "cell_type": "code",
   "execution_count": 6,
   "metadata": {},
   "outputs": [],
   "source": [
    "G.delete_all()  #This will delete all the data, be careful\n",
    "                #Just making sure that the results are reprodusible."
   ]
  },
  {
   "cell_type": "markdown",
   "metadata": {},
   "source": [
    "## Add Nodes"
   ]
  },
  {
   "cell_type": "code",
   "execution_count": 7,
   "metadata": {},
   "outputs": [],
   "source": [
    "#Add a node\n",
    "G.add_node(\"Yusuf\")"
   ]
  },
  {
   "cell_type": "code",
   "execution_count": 8,
   "metadata": {},
   "outputs": [],
   "source": [
    "#Add node with features\n",
    "G.add_node(\"Nurgul\",gender='F')"
   ]
  },
  {
   "cell_type": "code",
   "execution_count": 9,
   "metadata": {},
   "outputs": [],
   "source": [
    "#Add multiple properties at once\n",
    "G.add_node(\"Betul\",age=4,gender='F')"
   ]
  },
  {
   "cell_type": "code",
   "execution_count": 10,
   "metadata": {},
   "outputs": [
    {
     "name": "stdout",
     "output_type": "stream",
     "text": [
      "Yusuf\n",
      "Nurgul\n",
      "Betul\n"
     ]
    }
   ],
   "source": [
    "#Check nodes\n",
    "for node in G.nodes():   #Unlike networkX, nxneo4j returns a generator\n",
    "    print(node)"
   ]
  },
  {
   "cell_type": "code",
   "execution_count": 11,
   "metadata": {},
   "outputs": [
    {
     "data": {
      "text/plain": [
       "['Yusuf', 'Nurgul', 'Betul']"
      ]
     },
     "execution_count": 11,
     "metadata": {},
     "output_type": "execute_result"
    }
   ],
   "source": [
    "#Or simply\n",
    "list(G.nodes())"
   ]
  },
  {
   "cell_type": "code",
   "execution_count": 12,
   "metadata": {},
   "outputs": [
    {
     "data": {
      "text/plain": [
       "[('Yusuf', {}),\n",
       " ('Nurgul', {'gender': 'F'}),\n",
       " ('Betul', {'gender': 'F', 'age': 4})]"
      ]
     },
     "execution_count": 12,
     "metadata": {},
     "output_type": "execute_result"
    }
   ],
   "source": [
    "#Get the data associated with each node\n",
    "list(G.nodes(data=True))"
   ]
  },
  {
   "cell_type": "code",
   "execution_count": 13,
   "metadata": {},
   "outputs": [
    {
     "data": {
      "text/plain": [
       "3"
      ]
     },
     "execution_count": 13,
     "metadata": {},
     "output_type": "execute_result"
    }
   ],
   "source": [
    "#number of nodes\n",
    "len(G)"
   ]
  },
  {
   "cell_type": "code",
   "execution_count": 14,
   "metadata": {},
   "outputs": [
    {
     "data": {
      "text/html": [
       "\n",
       "        <iframe\n",
       "            width=\"100%\"\n",
       "            height=\"500\"\n",
       "            src=\"vis.html\"\n",
       "            frameborder=\"0\"\n",
       "            allowfullscreen\n",
       "        ></iframe>\n",
       "        "
      ],
      "text/plain": [
       "<IPython.lib.display.IFrame at 0x1100a57d0>"
      ]
     },
     "execution_count": 14,
     "metadata": {},
     "output_type": "execute_result"
    }
   ],
   "source": [
    "#Display\n",
    "nx.draw(G) #It is interactive, drag the nodes!"
   ]
  },
  {
   "cell_type": "code",
   "execution_count": 15,
   "metadata": {},
   "outputs": [
    {
     "data": {
      "text/plain": [
       "{'gender': 'F', 'age': 4}"
      ]
     },
     "execution_count": 15,
     "metadata": {},
     "output_type": "execute_result"
    }
   ],
   "source": [
    "#Check a particular node feature\n",
    "G.nodes['Betul']"
   ]
  },
  {
   "cell_type": "code",
   "execution_count": 16,
   "metadata": {},
   "outputs": [
    {
     "data": {
      "text/plain": [
       "4"
      ]
     },
     "execution_count": 16,
     "metadata": {},
     "output_type": "execute_result"
    }
   ],
   "source": [
    "#You can be more specific\n",
    "G.nodes['Betul']['age']"
   ]
  },
  {
   "cell_type": "code",
   "execution_count": 17,
   "metadata": {},
   "outputs": [],
   "source": [
    "G.add_nodes_from([1,2,3,4])"
   ]
  },
  {
   "cell_type": "code",
   "execution_count": 18,
   "metadata": {},
   "outputs": [
    {
     "data": {
      "text/plain": [
       "['Yusuf', 'Nurgul', 'Betul', 1, 2, 3, 4]"
      ]
     },
     "execution_count": 18,
     "metadata": {},
     "output_type": "execute_result"
    }
   ],
   "source": [
    "list(G.nodes())"
   ]
  },
  {
   "cell_type": "markdown",
   "metadata": {},
   "source": [
    "## Add Edges"
   ]
  },
  {
   "cell_type": "code",
   "execution_count": 19,
   "metadata": {},
   "outputs": [],
   "source": [
    "#Add one edge\n",
    "G.add_edge('Yusuf','Max')"
   ]
  },
  {
   "cell_type": "code",
   "execution_count": 20,
   "metadata": {},
   "outputs": [
    {
     "data": {
      "text/html": [
       "\n",
       "        <iframe\n",
       "            width=\"100%\"\n",
       "            height=\"500\"\n",
       "            src=\"vis.html\"\n",
       "            frameborder=\"0\"\n",
       "            allowfullscreen\n",
       "        ></iframe>\n",
       "        "
      ],
      "text/plain": [
       "<IPython.lib.display.IFrame at 0x110186150>"
      ]
     },
     "execution_count": 20,
     "metadata": {},
     "output_type": "execute_result"
    }
   ],
   "source": [
    "nx.draw(G) #default relationship label is \"CONNECTED\""
   ]
  },
  {
   "cell_type": "code",
   "execution_count": 21,
   "metadata": {},
   "outputs": [],
   "source": [
    "#You can change the default connection label like the following\n",
    "G.relationship_type = 'LOVES'"
   ]
  },
  {
   "cell_type": "code",
   "execution_count": 22,
   "metadata": {},
   "outputs": [],
   "source": [
    "G.add_edge('Yusuf','Nurgul')\n",
    "G.add_edge('Nurgul','Yusuf')"
   ]
  },
  {
   "cell_type": "code",
   "execution_count": 23,
   "metadata": {},
   "outputs": [
    {
     "data": {
      "text/html": [
       "\n",
       "        <iframe\n",
       "            width=\"100%\"\n",
       "            height=\"500\"\n",
       "            src=\"vis.html\"\n",
       "            frameborder=\"0\"\n",
       "            allowfullscreen\n",
       "        ></iframe>\n",
       "        "
      ],
      "text/plain": [
       "<IPython.lib.display.IFrame at 0x113a97e50>"
      ]
     },
     "execution_count": 23,
     "metadata": {},
     "output_type": "execute_result"
    }
   ],
   "source": [
    "nx.draw(G)"
   ]
  },
  {
   "cell_type": "code",
   "execution_count": 24,
   "metadata": {},
   "outputs": [],
   "source": [
    "#You can add properties as well\n",
    "G.add_edge('Betul','Nurgul',how_much='More than Dad')"
   ]
  },
  {
   "cell_type": "code",
   "execution_count": 25,
   "metadata": {},
   "outputs": [
    {
     "data": {
      "text/plain": [
       "[('Yusuf', 'Nurgul', {}),\n",
       " ('Nurgul', 'Yusuf', {}),\n",
       " ('Betul', 'Nurgul', {'how_much': 'More than Dad'})]"
      ]
     },
     "execution_count": 25,
     "metadata": {},
     "output_type": "execute_result"
    }
   ],
   "source": [
    "#display the values\n",
    "list(G.edges(data=True))"
   ]
  },
  {
   "cell_type": "code",
   "execution_count": 26,
   "metadata": {},
   "outputs": [],
   "source": [
    "G.relationship_type = 'CONNECTED'"
   ]
  },
  {
   "cell_type": "code",
   "execution_count": 27,
   "metadata": {},
   "outputs": [],
   "source": [
    "G.add_edges_from([(1,2),(3,4)])"
   ]
  },
  {
   "cell_type": "code",
   "execution_count": 28,
   "metadata": {},
   "outputs": [
    {
     "data": {
      "text/html": [
       "\n",
       "        <iframe\n",
       "            width=\"100%\"\n",
       "            height=\"500\"\n",
       "            src=\"vis.html\"\n",
       "            frameborder=\"0\"\n",
       "            allowfullscreen\n",
       "        ></iframe>\n",
       "        "
      ],
      "text/plain": [
       "<IPython.lib.display.IFrame at 0x113a97dd0>"
      ]
     },
     "execution_count": 28,
     "metadata": {},
     "output_type": "execute_result"
    }
   ],
   "source": [
    "nx.draw(G)"
   ]
  },
  {
   "cell_type": "markdown",
   "metadata": {},
   "source": [
    "## Remove Nodes"
   ]
  },
  {
   "cell_type": "code",
   "execution_count": 29,
   "metadata": {},
   "outputs": [],
   "source": [
    "G.remove_node('Yusuf')"
   ]
  },
  {
   "cell_type": "code",
   "execution_count": 30,
   "metadata": {},
   "outputs": [
    {
     "data": {
      "text/plain": [
       "['Nurgul', 'Betul', 1, 2, 3, 4, 'Max']"
      ]
     },
     "execution_count": 30,
     "metadata": {},
     "output_type": "execute_result"
    }
   ],
   "source": [
    "list(G.nodes())"
   ]
  },
  {
   "cell_type": "markdown",
   "metadata": {},
   "source": [
    "## Graph Data Science"
   ]
  },
  {
   "cell_type": "markdown",
   "metadata": {},
   "source": [
    "There are several builtin graph algorithms in Neo4j. nxneo4j will expand to cover all of them in the future versions. For now, the following networkX algorithms are supported: \n",
    "- pagerank\n",
    "- betweenness_centrality\n",
    "- closeness_centrality\n",
    "- label_propagation\n",
    "- connected_components\n",
    "- clustering \n",
    "- triangles\n",
    "- shortest_path\n",
    "- shortest_weighted_path\n",
    "\n",
    "Let's delete all data and load GOT data:"
   ]
  },
  {
   "cell_type": "code",
   "execution_count": 31,
   "metadata": {},
   "outputs": [],
   "source": [
    "G.delete_all()\n",
    "G.load_got()"
   ]
  },
  {
   "cell_type": "code",
   "execution_count": 32,
   "metadata": {},
   "outputs": [],
   "source": [
    "#You can change the default parameters like the following:\n",
    "G.identifier_property = 'name'\n",
    "G.relationship_type = '*'\n",
    "G.node_label = 'Character'"
   ]
  },
  {
   "cell_type": "code",
   "execution_count": 33,
   "metadata": {},
   "outputs": [
    {
     "data": {
      "text/html": [
       "\n",
       "        <iframe\n",
       "            width=\"100%\"\n",
       "            height=\"500\"\n",
       "            src=\"vis.html\"\n",
       "            frameborder=\"0\"\n",
       "            allowfullscreen\n",
       "        ></iframe>\n",
       "        "
      ],
      "text/plain": [
       "<IPython.lib.display.IFrame at 0x113b06b50>"
      ]
     },
     "execution_count": 33,
     "metadata": {},
     "output_type": "execute_result"
    }
   ],
   "source": [
    "nx.draw(G) #Zoom in to see the names :)"
   ]
  },
  {
   "cell_type": "code",
   "execution_count": 34,
   "metadata": {},
   "outputs": [
    {
     "data": {
      "text/plain": [
       "796"
      ]
     },
     "execution_count": 34,
     "metadata": {},
     "output_type": "execute_result"
    }
   ],
   "source": [
    "len(G) #796 nodes"
   ]
  },
  {
   "cell_type": "markdown",
   "metadata": {},
   "source": [
    "## 1. Centrality Algorithms"
   ]
  },
  {
   "cell_type": "markdown",
   "metadata": {},
   "source": [
    "We’ll start with the famous PageRank algorithm. Let’s find out who the most influential characters in Game of Thrones are:"
   ]
  },
  {
   "cell_type": "markdown",
   "metadata": {},
   "source": [
    "### Pagerank"
   ]
  },
  {
   "cell_type": "markdown",
   "metadata": {},
   "source": [
    "We’ll start with the famous PageRank algorithm. Let’s find out who the most influential characters in Game of Thrones are:"
   ]
  },
  {
   "cell_type": "code",
   "execution_count": null,
   "metadata": {},
   "outputs": [],
   "source": [
    "nx.pagerank(G) #RAW OUTPUT"
   ]
  },
  {
   "cell_type": "code",
   "execution_count": 36,
   "metadata": {},
   "outputs": [
    {
     "name": "stdout",
     "output_type": "stream",
     "text": [
      "Jon-Snow 17.596909502152542\n",
      "Tyrion-Lannister 17.5681362401036\n",
      "Jaime-Lannister 13.925499363526765\n",
      "Cersei-Lannister 13.402380343756127\n",
      "Daenerys-Targaryen 12.499217151004377\n",
      "Stannis-Baratheon 12.150398137088176\n",
      "Arya-Stark 11.692111895814374\n",
      "Robb-Stark 11.27772586147388\n",
      "Eddard-Stark 10.683881511879148\n",
      "Catelyn-Stark 10.61921863453427\n"
     ]
    }
   ],
   "source": [
    "# the most influential characters\n",
    "response = nx.pagerank(G)\n",
    "sorted_pagerank = sorted(response.items(), key=lambda x: x[1], reverse=True)\n",
    "for character, score in sorted_pagerank[:10]:\n",
    "    print(character, score)"
   ]
  },
  {
   "cell_type": "markdown",
   "metadata": {},
   "source": [
    "### Betweenness centrality"
   ]
  },
  {
   "cell_type": "markdown",
   "metadata": {},
   "source": [
    "We can also run betweenness centrality over the dataset. This algorithm will tell us which nodes are the most 'pivotal' i.e. how many of the shortest paths between pairs of characters must pass through them"
   ]
  },
  {
   "cell_type": "code",
   "execution_count": null,
   "metadata": {},
   "outputs": [],
   "source": [
    "# Betweenness centrality\n",
    "nx.betweenness_centrality(G) #RAW OUTPUT"
   ]
  },
  {
   "cell_type": "code",
   "execution_count": 38,
   "metadata": {},
   "outputs": [
    {
     "name": "stdout",
     "output_type": "stream",
     "text": [
      "Jon-Snow 65395.26787165435\n",
      "Tyrion-Lannister 50202.17398521848\n",
      "Daenerys-Targaryen 39636.77718662114\n",
      "Stannis-Baratheon 35984.21182863314\n",
      "Theon-Greyjoy 35436.85268519103\n",
      "Jaime-Lannister 32122.976615424588\n",
      "Robert-Baratheon 31391.065251945023\n",
      "Arya-Stark 29342.15853062157\n",
      "Cersei-Lannister 28274.915426635584\n",
      "Eddard-Stark 26470.250249098248\n"
     ]
    }
   ],
   "source": [
    "# RANKED OUTPUT\n",
    "response = nx.betweenness_centrality(G)\n",
    "\n",
    "sorted_bw = sorted(response.items(), key=lambda x: x[1], reverse=True)\n",
    "for character, score in sorted_bw[:10]:\n",
    "    print(character, score)"
   ]
  },
  {
   "cell_type": "markdown",
   "metadata": {},
   "source": [
    "### Closeness centrality\n",
    "\n",
    "Closeness centrality tells us on average how many hops away each character is from every other character."
   ]
  },
  {
   "cell_type": "code",
   "execution_count": null,
   "metadata": {},
   "outputs": [],
   "source": [
    "# Closeness centrality\n",
    "nx.closeness_centrality(G) #RAW OUTPUT"
   ]
  },
  {
   "cell_type": "code",
   "execution_count": 40,
   "metadata": {},
   "outputs": [
    {
     "name": "stdout",
     "output_type": "stream",
     "text": [
      "Tyrion-Lannister 0.4763331336129419\n",
      "Robert-Baratheon 0.4592720970537262\n",
      "Eddard-Stark 0.455848623853211\n",
      "Cersei-Lannister 0.45454545454545453\n",
      "Jaime-Lannister 0.4519613416714042\n",
      "Jon-Snow 0.44537815126050423\n",
      "Stannis-Baratheon 0.4446308724832215\n",
      "Robb-Stark 0.4441340782122905\n",
      "Joffrey-Baratheon 0.4339519650655022\n",
      "Catelyn-Stark 0.4334787350054526\n"
     ]
    }
   ],
   "source": [
    "# RANKED\n",
    "response = nx.closeness_centrality(G)\n",
    "\n",
    "sorted_cc = sorted(response.items(), key=lambda x: x[1], reverse=True)\n",
    "for character, score in sorted_cc[:10]:\n",
    "    print(character, score)"
   ]
  },
  {
   "cell_type": "markdown",
   "metadata": {},
   "source": [
    "## 2. Community Detection Algoritms"
   ]
  },
  {
   "cell_type": "markdown",
   "metadata": {},
   "source": [
    "### Label Propagation\n",
    "We can also partition the characters into communities using the label propagation algorithm"
   ]
  },
  {
   "cell_type": "code",
   "execution_count": 41,
   "metadata": {},
   "outputs": [
    {
     "data": {
      "text/plain": [
       "<generator object label_propagation_communities at 0x113a86cd0>"
      ]
     },
     "execution_count": 41,
     "metadata": {},
     "output_type": "execute_result"
    }
   ],
   "source": [
    "# Label propagation\n",
    "nx.label_propagation_communities(G) #RAW OUPUT is a generator"
   ]
  },
  {
   "cell_type": "code",
   "execution_count": 42,
   "metadata": {},
   "outputs": [
    {
     "name": "stdout",
     "output_type": "stream",
     "text": [
      "['Stiv', 'Nymeria-Sand', 'High-Septon-(Tyrions)', 'Loras-Tyrell', 'Jojen-Reed', 'Denyo-Terys', 'Mellei', 'Hoster-Tully', 'Josmyn-Peckledon', 'Ellaria-Sand']\n",
      "['Hop-Robin', 'Hobb', 'Dirk', 'Dick-Follard', 'Ragwyle', 'Aemon-Targaryen-(Maester-Aemon)', 'Joramun', 'Val', 'Blane', 'Leo-Tyrell']\n",
      "['Daeron-II-Targaryen', 'Marselen', 'Pono', 'Ezzara', 'Spotted-Cat', 'Grazdan-mo-Eraz', 'Rhaego', 'Aggo', 'Missandei', 'Ysilla']\n"
     ]
    }
   ],
   "source": [
    "communities = nx.label_propagation_communities(G)\n",
    "sorted_communities = sorted(communities, key=lambda x: len(x), reverse=True)\n",
    "for community in sorted_communities[:10]:\n",
    "    print(list(community)[:10])"
   ]
  },
  {
   "cell_type": "markdown",
   "metadata": {},
   "source": [
    "Characters are in the same community as those other characters with whom they frequently interact. The idea is that characters have closer ties to those in their community than to those outside.\n",
    "\n"
   ]
  },
  {
   "cell_type": "markdown",
   "metadata": {},
   "source": [
    "### Clustering\n",
    "We can calculate the clustering coefficient for each character. A clustering coefficient of '1' means that all characters that interact with that character also interact with each other:"
   ]
  },
  {
   "cell_type": "code",
   "execution_count": null,
   "metadata": {},
   "outputs": [],
   "source": [
    "# Clustering\n",
    "nx.clustering(G) #RAW OUTPUT"
   ]
  },
  {
   "cell_type": "code",
   "execution_count": 44,
   "metadata": {},
   "outputs": [
    {
     "name": "stdout",
     "output_type": "stream",
     "text": [
      "['Desmond', 1.0]\n",
      "['Jommo', 1.0]\n",
      "['Jonos-Bracken', 1.0]\n",
      "['Joseth', 1.0]\n",
      "['Jyck', 1.0]\n",
      "['Morrec', 1.0]\n",
      "['Raymun-Darry', 1.0]\n",
      "['Will-(prologue)', 1.0]\n",
      "['Todder', 1.0]\n",
      "['Allar-Deem', 1.0]\n"
     ]
    }
   ],
   "source": [
    "response = nx.clustering(G)\n",
    "\n",
    "biggest_coefficient = sorted(response.items(), key=lambda x: x[1], reverse=True)\n",
    "for character in biggest_coefficient[:10]:\n",
    "    print(list(character)[:10])"
   ]
  },
  {
   "cell_type": "code",
   "execution_count": null,
   "metadata": {},
   "outputs": [],
   "source": [
    "list(nx.connected_components(G))"
   ]
  },
  {
   "cell_type": "code",
   "execution_count": 46,
   "metadata": {},
   "outputs": [
    {
     "data": {
      "text/plain": [
       "1"
      ]
     },
     "execution_count": 46,
     "metadata": {},
     "output_type": "execute_result"
    }
   ],
   "source": [
    "nx.number_connected_components(G)"
   ]
  },
  {
   "cell_type": "code",
   "execution_count": null,
   "metadata": {},
   "outputs": [],
   "source": [
    "nx.triangles(G)"
   ]
  },
  {
   "cell_type": "markdown",
   "metadata": {},
   "source": [
    "## 3. Path Finding Algorithms"
   ]
  },
  {
   "cell_type": "markdown",
   "metadata": {},
   "source": [
    "Let's find the distance between two characters"
   ]
  },
  {
   "cell_type": "code",
   "execution_count": 48,
   "metadata": {},
   "outputs": [
    {
     "data": {
      "text/plain": [
       "['Tyrion-Lannister', 'Luwin', 'Hodor']"
      ]
     },
     "execution_count": 48,
     "metadata": {},
     "output_type": "execute_result"
    }
   ],
   "source": [
    "# Shortest path\n",
    "nx.shortest_path(G, source=\"Tyrion-Lannister\", target=\"Hodor\")"
   ]
  },
  {
   "cell_type": "code",
   "execution_count": 49,
   "metadata": {},
   "outputs": [
    {
     "data": {
      "text/plain": [
       "['Tyrion-Lannister', 'Theon-Greyjoy', 'Wyman-Manderly', 'Hodor']"
      ]
     },
     "execution_count": 49,
     "metadata": {},
     "output_type": "execute_result"
    }
   ],
   "source": [
    "# Shortest weighted path\n",
    "nx.shortest_weighted_path(G, source=\"Tyrion-Lannister\", target=\"Hodor\",weight='weight')"
   ]
  },
  {
   "cell_type": "code",
   "execution_count": null,
   "metadata": {},
   "outputs": [],
   "source": []
  },
  {
   "cell_type": "code",
   "execution_count": null,
   "metadata": {},
   "outputs": [],
   "source": []
  }
 ],
 "metadata": {
  "kernelspec": {
   "display_name": "Python 3",
   "language": "python",
   "name": "python3"
  },
  "language_info": {
   "codemirror_mode": {
    "name": "ipython",
    "version": 3
   },
   "file_extension": ".py",
   "mimetype": "text/x-python",
   "name": "python",
   "nbconvert_exporter": "python",
   "pygments_lexer": "ipython3",
   "version": "3.7.6"
  }
 },
 "nbformat": 4,
 "nbformat_minor": 4
}
