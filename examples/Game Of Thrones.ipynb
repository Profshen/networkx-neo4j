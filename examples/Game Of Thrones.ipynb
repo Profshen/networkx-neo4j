{
 "cells": [
  {
   "cell_type": "markdown",
   "metadata": {},
   "source": [
    "# Game of Thrones Case Study\n",
    "\n",
    "In this notebook we'll look at the case of Game of Thrones dataset and explore it with networkx-neo4j.\n",
    "\n",
    "First let's import the required libraries:"
   ]
  },
  {
   "cell_type": "code",
   "execution_count": 1,
   "metadata": {},
   "outputs": [],
   "source": [
    "import sys\n",
    "sys.path.append(\"../\")"
   ]
  },
  {
   "cell_type": "code",
   "execution_count": 2,
   "metadata": {
    "execution": {
     "iopub.execute_input": "2020-05-05T07:20:13.970Z",
     "iopub.status.busy": "2020-05-05T07:20:13.963Z",
     "iopub.status.idle": "2020-05-05T07:20:14.087Z",
     "shell.execute_reply": "2020-05-05T07:20:14.094Z"
    }
   },
   "outputs": [],
   "source": [
    "# pip install git+https://github.com/neo4j-graph-analytics/networkx-neo4j.git#egg=networkx-neo4j\n",
    "\n",
    "from neo4j import GraphDatabase\n",
    "import nxneo4j"
   ]
  },
  {
   "cell_type": "markdown",
   "metadata": {},
   "source": [
    "Next we'll create an instance of the Neo4j driver"
   ]
  },
  {
   "cell_type": "code",
   "execution_count": 5,
   "metadata": {
    "execution": {
     "iopub.execute_input": "2020-05-05T07:20:16.572Z",
     "iopub.status.busy": "2020-05-05T07:20:16.565Z",
     "iopub.status.idle": "2020-05-05T07:20:16.581Z",
     "shell.execute_reply": "2020-05-05T07:20:16.590Z"
    }
   },
   "outputs": [],
   "source": [
    "# You'll need to change these credentials to point to your own Neo4j Server\n",
    "driver = GraphDatabase.driver( \"bolt://localhost\", auth=(\"neo4j\", \"neo\"))"
   ]
  },
  {
   "cell_type": "markdown",
   "metadata": {},
   "source": [
    "## Importing the Dataset\n",
    "\n",
    "Before we run any algorithms we'll first import a Game of Thrones dataset. \n",
    "This dataset was curated by [Dr Andrew Beveridge](https://twitter.com/mathbeveridge?lang=en)."
   ]
  },
  {
   "cell_type": "code",
   "execution_count": 19,
   "metadata": {
    "execution": {
     "iopub.execute_input": "2020-05-05T07:20:18.036Z",
     "iopub.status.busy": "2020-05-05T07:20:18.029Z",
     "iopub.status.idle": "2020-05-05T07:20:19.661Z",
     "shell.execute_reply": "2020-05-05T07:20:19.690Z"
    }
   },
   "outputs": [],
   "source": [
    "with driver.session() as session:\n",
    "    session.run(\"\"\"\\\n",
    "    CREATE CONSTRAINT ON (c:Character)\n",
    "    ASSERT c.name IS UNIQUE\n",
    "    \"\"\")\n",
    "    \n",
    "    session.run(\"\"\"\\\n",
    "    LOAD CSV WITH HEADERS FROM \"https://raw.githubusercontent.com/mathbeveridge/asoiaf/master/data/asoiaf-book1-edges.csv\" AS row\n",
    "    MERGE (src:Character {name: row.Source})\n",
    "    MERGE (tgt:Character {name: row.Target})\n",
    "    // relationship for the book\n",
    "    MERGE (src)-[r:INTERACTS1]->(tgt)\n",
    "    ON CREATE SET r.weight = toInt(row.weight), r.book=1\n",
    "    \"\"\")\n",
    "    \n",
    "    session.run(\"\"\"\\\n",
    "    LOAD CSV WITH HEADERS FROM \"https://raw.githubusercontent.com/mathbeveridge/asoiaf/master/data/asoiaf-book2-edges.csv\" AS row\n",
    "    MERGE (src:Character {name: row.Source})\n",
    "    MERGE (tgt:Character {name: row.Target})\n",
    "    // relationship for the book\n",
    "    MERGE (src)-[r:INTERACTS2]->(tgt)\n",
    "    ON CREATE SET r.weight = toInt(row.weight), r.book=2\n",
    "    \"\"\")  \n",
    "    \n",
    "    session.run(\"\"\"\\\n",
    "    LOAD CSV WITH HEADERS FROM \"https://raw.githubusercontent.com/mathbeveridge/asoiaf/master/data/asoiaf-book3-edges.csv\" AS row\n",
    "    MERGE (src:Character {name: row.Source})\n",
    "    MERGE (tgt:Character {name: row.Target})\n",
    "    // relationship for the book\n",
    "    MERGE (src)-[r:INTERACTS3]->(tgt)\n",
    "    ON CREATE SET r.weight = toInt(row.weight), r.book=3\n",
    "    \"\"\")       \n",
    "    \n",
    "    session.run(\"\"\"\\\n",
    "    LOAD CSV WITH HEADERS FROM \"https://raw.githubusercontent.com/mathbeveridge/asoiaf/master/data/asoiaf-book45-edges.csv\" AS row\n",
    "    MERGE (src:Character {name: row.Source})\n",
    "    MERGE (tgt:Character {name: row.Target})\n",
    "    // relationship for the book\n",
    "    MERGE (src)-[r:INTERACTS45]->(tgt)\n",
    "    ON CREATE SET r.weight = toInt(row.weight), r.book=45\n",
    "    \"\"\")           "
   ]
  },
  {
   "cell_type": "markdown",
   "metadata": {},
   "source": [
    "## Configuring our graph\n",
    "\n",
    "Next we’re going to create a map explaining the node labels, relationship types, and properties used in the Graph of Thrones."
   ]
  },
  {
   "cell_type": "code",
   "execution_count": 6,
   "metadata": {
    "execution": {
     "iopub.execute_input": "2020-05-05T07:20:19.675Z",
     "iopub.status.busy": "2020-05-05T07:20:19.668Z",
     "iopub.status.idle": "2020-05-05T07:20:19.685Z",
     "shell.execute_reply": "2020-05-05T07:20:19.693Z"
    }
   },
   "outputs": [],
   "source": [
    "config = {\n",
    "    \"node_label\": \"Character\",\n",
    "    \"relationship_type\": '*',\n",
    "    \"identifier_property\": \"name\"\n",
    "}\n",
    "G = nxneo4j.Graph(driver, config)"
   ]
  },
  {
   "cell_type": "markdown",
   "metadata": {},
   "source": [
    "We set:\n",
    "\n",
    "* `node_label` to `Character` so that we’ll only consider nodes with that label\n",
    "* `relationship_type` to `*` so that we’ll consider all relationship types in the graph\n",
    "* `identifier_property` is the node property that we’ll use to identify each node from the networkx-neo4j API"
   ]
  },
  {
   "cell_type": "markdown",
   "metadata": {},
   "source": [
    "## Centrality\n",
    "\n",
    "Let's take a look at the centrality algorithms we have available to us.\n",
    "\n",
    "### PageRank\n",
    "\n",
    "We’ll start with the famous PageRank algorithm. Let’s find out who the most influential characters in Game of Thrones are:"
   ]
  },
  {
   "cell_type": "code",
   "execution_count": 21,
   "metadata": {
    "execution": {
     "iopub.execute_input": "2020-05-05T07:20:24.094Z",
     "iopub.status.busy": "2020-05-05T07:20:24.087Z",
     "iopub.status.idle": "2020-05-05T07:20:24.614Z",
     "shell.execute_reply": "2020-05-05T07:20:24.632Z"
    }
   },
   "outputs": [
    {
     "name": "stdout",
     "output_type": "stream",
     "text": [
      "Jon-Snow 17.59690941991715\n",
      "Tyrion-Lannister 17.568134839111227\n",
      "Jaime-Lannister 13.92549902428906\n",
      "Cersei-Lannister 13.40237983062404\n",
      "Daenerys-Targaryen 12.499216950197138\n",
      "Stannis-Baratheon 12.150398000141639\n",
      "Arya-Stark 11.692111553013346\n",
      "Robb-Stark 11.27772564644931\n",
      "Eddard-Stark 10.683881175699216\n",
      "Catelyn-Stark 10.619218401320087\n"
     ]
    }
   ],
   "source": [
    "sorted_pagerank = sorted(nxneo4j.centrality.pagerank(G).items(), key=lambda x: x[1], reverse=True)\n",
    "for character, score in sorted_pagerank[:10]:\n",
    "    print(character, score)"
   ]
  },
  {
   "cell_type": "markdown",
   "metadata": {},
   "source": [
    "Hopefully there aren’t too many surprises there!\n",
    "\n",
    "### Betweenness centrality\n",
    "\n",
    "We can also run betweenness centrality over the dataset. This algorithm will tell us which nodes are the most 'pivotal' i.e. how many of the shortest paths between pairs of characters must pass through them"
   ]
  },
  {
   "cell_type": "code",
   "execution_count": 22,
   "metadata": {},
   "outputs": [
    {
     "name": "stdout",
     "output_type": "stream",
     "text": [
      "Jon-Snow 65395.26787165436\n",
      "Tyrion-Lannister 50202.17398521849\n",
      "Daenerys-Targaryen 39636.777186621155\n",
      "Stannis-Baratheon 35984.211828633124\n",
      "Theon-Greyjoy 35436.85268519104\n",
      "Jaime-Lannister 32122.97661542459\n",
      "Robert-Baratheon 31391.065251945027\n",
      "Arya-Stark 29342.158530621575\n",
      "Cersei-Lannister 28274.915426635573\n",
      "Eddard-Stark 26470.25024909826\n"
     ]
    }
   ],
   "source": [
    "sorted_bw = sorted(nxneo4j.centrality.betweenness_centrality(G).items(), key=lambda x: x[1], reverse=True)\n",
    "for character, score in sorted_bw[:10]:\n",
    "    print(character, score)"
   ]
  },
  {
   "cell_type": "markdown",
   "metadata": {},
   "source": [
    "### Closeness centrality\n",
    "\n",
    "Closeness centrality tells us on average how many hops away each character is from every other character."
   ]
  },
  {
   "cell_type": "code",
   "execution_count": 23,
   "metadata": {},
   "outputs": [
    {
     "name": "stdout",
     "output_type": "stream",
     "text": [
      "Tyrion-Lannister 0.4763331336129419\n",
      "Robert-Baratheon 0.4592720970537262\n",
      "Eddard-Stark 0.455848623853211\n",
      "Cersei-Lannister 0.45454545454545453\n",
      "Jaime-Lannister 0.4519613416714042\n",
      "Jon-Snow 0.44537815126050423\n",
      "Stannis-Baratheon 0.4446308724832215\n",
      "Robb-Stark 0.4441340782122905\n",
      "Joffrey-Baratheon 0.4339519650655022\n",
      "Catelyn-Stark 0.4334787350054526\n"
     ]
    }
   ],
   "source": [
    "sorted_cc = sorted(nxneo4j.centrality.closeness_centrality(G, wf_improved=False).items(), key=lambda x: x[1], reverse=True)\n",
    "for character, score in sorted_cc[:10]:\n",
    "    print(character, score)"
   ]
  },
  {
   "cell_type": "markdown",
   "metadata": {},
   "source": [
    "Again we see the usual suspects ranking highly on this metric of centrality."
   ]
  },
  {
   "cell_type": "markdown",
   "metadata": {},
   "source": [
    "## Pathfinding \n",
    "\n",
    "Our next category of algorithms are used for path finding.\n",
    "\n",
    "### Shortest Path\n",
    "\n",
    "What if we want to find the shortest path between two characters?"
   ]
  },
  {
   "cell_type": "code",
   "execution_count": 25,
   "metadata": {},
   "outputs": [
    {
     "data": {
      "text/plain": [
       "['Tyrion-Lannister', 'Luwin', 'Hodor']"
      ]
     },
     "execution_count": 25,
     "metadata": {},
     "output_type": "execute_result"
    }
   ],
   "source": [
    "nxneo4j.path_finding.shortest_path(G, \"Tyrion-Lannister\", \"Hodor\")"
   ]
  },
  {
   "cell_type": "markdown",
   "metadata": {},
   "source": [
    "Notice that we refer to nodes by their name property — this is where the `identifier_property` that we defined in our config map is used.\n",
    "\n",
    "## Label Propagation\n",
    "\n",
    "We can also partition the characters into communities using the label propagation algorithm:"
   ]
  },
  {
   "cell_type": "code",
   "execution_count": 26,
   "metadata": {},
   "outputs": [
    {
     "name": "stdout",
     "output_type": "stream",
     "text": [
      "['Lyonel-Corbray', 'Martyn-Rivers', 'Franklyn-Fowler', 'Trystane-Martell', 'Captain-Myraham', 'Tytos-Blackwood', 'Simon-Toyne', 'Poxy-Tym', 'Robert-Strong', 'Tom-of-Sevenstreams']\n",
      "['Quill', 'Chett', 'Watt', 'Haggon', 'Alliser-Thorne', 'Mallador-Locke', 'Weeper', 'Big-Boil', 'Aemon-Targaryen-(Maester-Aemon)', 'Dryn']\n",
      "['Belaquo', 'Meris', 'Kedry', 'Gerris-Drinkwater', 'Aggo', 'Skahaz-mo-Kandaq', 'Mirri-Maz-Duur', 'Miklaz', 'Galazza-Galare', 'Symon-Stripeback']\n"
     ]
    }
   ],
   "source": [
    "communities = nxneo4j.community.label_propagation_communities(G)\n",
    "sorted_communities = sorted(communities, key=lambda x: len(x), reverse=True)\n",
    "for community in sorted_communities[:10]:\n",
    "    print(list(community)[:10])"
   ]
  },
  {
   "cell_type": "markdown",
   "metadata": {},
   "source": [
    "Characters are in the same community as those other characters with whom they frequently interact. The idea is that characters have closer ties to those in their community than to those outside."
   ]
  },
  {
   "cell_type": "markdown",
   "metadata": {},
   "source": [
    "### Clustering\n",
    "\n",
    "We can calculate the clustering coefficient for each character.\n",
    "A clustering coefficient of '1' means that all characters that interact with that character also interact with each other:"
   ]
  },
  {
   "cell_type": "code",
   "execution_count": 7,
   "metadata": {},
   "outputs": [
    {
     "name": "stdout",
     "output_type": "stream",
     "text": [
      "['Steffon-Baratheon', 4.0]\n",
      "['Oswell-Kettleblack', 4.0]\n",
      "['Wylis-Manderly', 4.0]\n",
      "['Beth-Cassel', 3.0]\n",
      "['Big-Boil', 3.0]\n",
      "['Dirk', 3.0]\n",
      "['Jon-Umber-(Smalljon)', 3.0]\n",
      "['Orell', 3.0]\n",
      "['Oznak-zo-Pahl', 3.0]\n",
      "['Mag-Mar-Tun-Doh-Weg', 3.0]\n"
     ]
    }
   ],
   "source": [
    "biggest_coefficient = sorted(nxneo4j.community.clustering(G).items(), key=lambda x: x[1], reverse=True)\n",
    "for character in biggest_coefficient[:10]:\n",
    "    print(list(character)[:10])"
   ]
  },
  {
   "cell_type": "code",
   "execution_count": 8,
   "metadata": {},
   "outputs": [
    {
     "name": "stdout",
     "output_type": "stream",
     "text": [
      "['William-Foxglove', 0.0]\n",
      "['Clarence-Crabb', 0.0]\n",
      "['Illifer', 0.0]\n",
      "['Jeyne-Heddle', 0.0]\n",
      "['Willow-Heddle', 0.0]\n",
      "['Torghen-Flint', 0.0]\n",
      "['Lucifer-Long', 0.0]\n",
      "['Hugh-Hungerford', 0.0]\n",
      "['Raymun-Redbeard', 0.0]\n",
      "['Eustace-Brune', 0.0]\n"
     ]
    }
   ],
   "source": [
    "smallest_coefficient = sorted(nxneo4j.community.clustering(G).items(), key=lambda x: x[1])\n",
    "for character in smallest_coefficient[:10]:\n",
    "    print(list(character)[:10])"
   ]
  }
 ],
 "metadata": {
  "kernelspec": {
   "display_name": "Python 3",
   "language": "python",
   "name": "python3"
  },
  "language_info": {
   "codemirror_mode": {
    "name": "ipython",
    "version": 3
   },
   "file_extension": ".py",
   "mimetype": "text/x-python",
   "name": "python",
   "nbconvert_exporter": "python",
   "pygments_lexer": "ipython3",
   "version": "3.7.6"
  },
  "nteract": {
   "version": "0.23.1"
  }
 },
 "nbformat": 4,
 "nbformat_minor": 2
}
