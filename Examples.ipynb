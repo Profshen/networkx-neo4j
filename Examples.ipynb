{
  "cells": [
    {
      "cell_type": "markdown",
      "source": [
        "# Examples\n",
        "\n",
        "In this notebook we'll look at some examples of how to use networkx-neo4j.\n",
        "\n",
        "First let's import the required libraries:"
      ],
      "metadata": {}
    },
    {
      "cell_type": "code",
      "source": [
        "# pip install git+https://github.com/neo4j-graph-analytics/networkx-neo4j.git#egg=networkx-neo4j\n",
        "\n",
        "from neo4j import GraphDatabase\n",
        "import nxneo4j"
      ],
      "outputs": [],
      "execution_count": 2,
      "metadata": {
        "execution": {
          "iopub.status.busy": "2020-05-05T07:20:13.963Z",
          "iopub.execute_input": "2020-05-05T07:20:13.970Z",
          "iopub.status.idle": "2020-05-05T07:20:14.087Z",
          "shell.execute_reply": "2020-05-05T07:20:14.094Z"
        }
      }
    },
    {
      "cell_type": "markdown",
      "source": [
        "Next we'll create an instance of the Neo4j driver"
      ],
      "metadata": {}
    },
    {
      "cell_type": "code",
      "source": [
        "# You'll need to change these credentials to point to your own Neo4j Server\n",
        "driver = GraphDatabase.driver( \"bolt://localhost\", auth=(\"neo4j\", \"neo\"))"
      ],
      "outputs": [],
      "execution_count": 3,
      "metadata": {
        "execution": {
          "iopub.status.busy": "2020-05-05T07:20:16.565Z",
          "iopub.execute_input": "2020-05-05T07:20:16.572Z",
          "iopub.status.idle": "2020-05-05T07:20:16.581Z",
          "shell.execute_reply": "2020-05-05T07:20:16.590Z"
        }
      }
    },
    {
      "cell_type": "markdown",
      "source": [
        "## Importing the Graph of Thrones\n",
        "\n",
        "Before we run any algorithms we'll first import a Game of Thrones dataset. \n",
        "This dataset was curated by [Dr Andrew Beveridge](https://twitter.com/mathbeveridge?lang=en)."
      ],
      "metadata": {}
    },
    {
      "cell_type": "code",
      "source": [
        "with driver.session() as session:\n",
        "    session.run(\"\"\"\\\n",
        "    CREATE CONSTRAINT ON (c:Character)\n",
        "    ASSERT c.name IS UNIQUE\n",
        "    \"\"\")\n",
        "    \n",
        "    session.run(\"\"\"\\\n",
        "    LOAD CSV WITH HEADERS FROM \"https://raw.githubusercontent.com/mathbeveridge/asoiaf/master/data/asoiaf-book1-edges.csv\" AS row\n",
        "    MERGE (src:Character {name: row.Source})\n",
        "    MERGE (tgt:Character {name: row.Target})\n",
        "    // relationship for the book\n",
        "    MERGE (src)-[r:INTERACTS1]->(tgt)\n",
        "    ON CREATE SET r.weight = toInt(row.weight), r.book=1\n",
        "    \"\"\")\n",
        "    \n",
        "    session.run(\"\"\"\\\n",
        "    LOAD CSV WITH HEADERS FROM \"https://raw.githubusercontent.com/mathbeveridge/asoiaf/master/data/asoiaf-book2-edges.csv\" AS row\n",
        "    MERGE (src:Character {name: row.Source})\n",
        "    MERGE (tgt:Character {name: row.Target})\n",
        "    // relationship for the book\n",
        "    MERGE (src)-[r:INTERACTS2]->(tgt)\n",
        "    ON CREATE SET r.weight = toInt(row.weight), r.book=2\n",
        "    \"\"\")  \n",
        "    \n",
        "    session.run(\"\"\"\\\n",
        "    LOAD CSV WITH HEADERS FROM \"https://raw.githubusercontent.com/mathbeveridge/asoiaf/master/data/asoiaf-book3-edges.csv\" AS row\n",
        "    MERGE (src:Character {name: row.Source})\n",
        "    MERGE (tgt:Character {name: row.Target})\n",
        "    // relationship for the book\n",
        "    MERGE (src)-[r:INTERACTS3]->(tgt)\n",
        "    ON CREATE SET r.weight = toInt(row.weight), r.book=3\n",
        "    \"\"\")       \n",
        "    \n",
        "    session.run(\"\"\"\\\n",
        "    LOAD CSV WITH HEADERS FROM \"https://raw.githubusercontent.com/mathbeveridge/asoiaf/master/data/asoiaf-book45-edges.csv\" AS row\n",
        "    MERGE (src:Character {name: row.Source})\n",
        "    MERGE (tgt:Character {name: row.Target})\n",
        "    // relationship for the book\n",
        "    MERGE (src)-[r:INTERACTS45]->(tgt)\n",
        "    ON CREATE SET r.weight = toInt(row.weight), r.book=45\n",
        "    \"\"\")           "
      ],
      "outputs": [],
      "execution_count": 4,
      "metadata": {
        "execution": {
          "iopub.status.busy": "2020-05-05T07:20:18.029Z",
          "iopub.execute_input": "2020-05-05T07:20:18.036Z",
          "iopub.status.idle": "2020-05-05T07:20:19.661Z",
          "shell.execute_reply": "2020-05-05T07:20:19.690Z"
        }
      }
    },
    {
      "cell_type": "markdown",
      "source": [
        "## Configuring our graph\n",
        "\n",
        "Next we’re going to create a map explaining the node labels, relationship types, and properties used in the Graph of Thrones."
      ],
      "metadata": {}
    },
    {
      "cell_type": "code",
      "source": [
        "config = {\n",
        "    \"node_label\": \"Character\",\n",
        "    \"relationship_type\": '*',\n",
        "    \"identifier_property\": \"name\"\n",
        "}\n",
        "G = nxneo4j.Graph(driver, config)"
      ],
      "outputs": [],
      "execution_count": 5,
      "metadata": {
        "execution": {
          "iopub.status.busy": "2020-05-05T07:20:19.668Z",
          "iopub.execute_input": "2020-05-05T07:20:19.675Z",
          "iopub.status.idle": "2020-05-05T07:20:19.685Z",
          "shell.execute_reply": "2020-05-05T07:20:19.693Z"
        }
      }
    },
    {
      "cell_type": "markdown",
      "source": [
        "We set:\n",
        "\n",
        "* `node_label` to `Character` so that we’ll only consider nodes with that label\n",
        "* `relationship_type` to `*` so that we’ll consider all relationship types in the graph\n",
        "* `identifier_property` is the node property that we’ll use to identify each node from the networkx-neo4j API"
      ],
      "metadata": {}
    },
    {
      "cell_type": "markdown",
      "source": [
        "## Centrality\n",
        "\n",
        "Let's take a look at the centrality algorithms we have available to us.\n",
        "\n",
        "### PageRank\n",
        "\n",
        "We’ll start with the famous PageRank algorithm. Let’s find out who the most influential characters in Game of Thrones are:"
      ],
      "metadata": {}
    },
    {
      "cell_type": "code",
      "source": [
        "sorted_pagerank = sorted(nxneo4j.centrality.pagerank(G).items(), key=lambda x: x[1], reverse=True)\n",
        "for character, score in sorted_pagerank[:10]:\n",
        "    print(character, score)"
      ],
      "outputs": [
        {
          "output_type": "stream",
          "name": "stdout",
          "text": [
            "Jon-Snow 17.596909995401738\n",
            "Tyrion-Lannister 17.568136318535014\n",
            "Jaime-Lannister 13.925499774190643\n",
            "Cersei-Lannister 13.402380328492281\n",
            "Daenerys-Targaryen 12.499216940395238\n",
            "Stannis-Baratheon 12.15039828506236\n",
            "Arya-Stark 11.692111871446901\n",
            "Robb-Stark 11.277726159237629\n",
            "Eddard-Stark 10.683881524590705\n",
            "Catelyn-Stark 10.619218655788481\n"
          ]
        }
      ],
      "execution_count": 6,
      "metadata": {
        "execution": {
          "iopub.status.busy": "2020-05-05T07:20:24.087Z",
          "iopub.execute_input": "2020-05-05T07:20:24.094Z",
          "iopub.status.idle": "2020-05-05T07:20:24.614Z",
          "shell.execute_reply": "2020-05-05T07:20:24.632Z"
        }
      }
    },
    {
      "cell_type": "markdown",
      "source": [
        "Hopefully there aren’t too many surprises there!\n",
        "\n",
        "### Betweenness centrality\n",
        "\n",
        "We can also run betweenness centrality over the dataset. This algorithm will tell us which nodes are the most 'pivotal' i.e. how many of the shortest paths between pairs of characters must pass through them"
      ],
      "metadata": {}
    },
    {
      "cell_type": "code",
      "source": [
        "sorted_bw = sorted(nxneo4j.centrality.betweenness_centrality(G).items(), key=lambda x: x[1], reverse=True)\n",
        "for character, score in sorted_bw[:10]:\n",
        "    print(character, score)"
      ],
      "outputs": [
        {
          "output_type": "stream",
          "name": "stdout",
          "text": [
            "Jon-Snow 65578.93481374449\n",
            "Tyrion-Lannister 50138.40835951188\n",
            "Daenerys-Targaryen 39552.37894787023\n",
            "Stannis-Baratheon 35867.917597987005\n",
            "Theon-Greyjoy 35456.444688703545\n",
            "Jaime-Lannister 32234.162314740188\n",
            "Robert-Baratheon 31530.934471037195\n",
            "Arya-Stark 29239.81618950015\n",
            "Cersei-Lannister 28193.900581570768\n",
            "Eddard-Stark 26445.10175634546\n"
          ]
        }
      ],
      "execution_count": 32,
      "metadata": {}
    },
    {
      "cell_type": "markdown",
      "source": [
        "### Closeness centrality\n",
        "\n",
        "Closeness centrality tells us on average how many hops away each character is from every other character."
      ],
      "metadata": {}
    },
    {
      "cell_type": "code",
      "source": [
        "sorted_cc = sorted(nxneo4j.centrality.closeness_centrality(G, wf_improved=False).items(), key=lambda x: x[1], reverse=True)\n",
        "for character, score in sorted_cc[:10]:\n",
        "    print(character, score)"
      ],
      "outputs": [
        {
          "output_type": "stream",
          "name": "stdout",
          "text": [
            "Tyrion-Lannister 0.4763331336129419\n",
            "Robert-Baratheon 0.4592720970537262\n",
            "Eddard-Stark 0.455848623853211\n",
            "Cersei-Lannister 0.45454545454545453\n",
            "Jaime-Lannister 0.4519613416714042\n",
            "Jon-Snow 0.44537815126050423\n",
            "Stannis-Baratheon 0.4446308724832215\n",
            "Robb-Stark 0.4441340782122905\n",
            "Joffrey-Baratheon 0.4339519650655022\n",
            "Catelyn-Stark 0.4334787350054526\n"
          ]
        }
      ],
      "execution_count": 37,
      "metadata": {}
    },
    {
      "cell_type": "markdown",
      "source": [
        "Again we see the usual suspects ranking highly on this metric of centrality."
      ],
      "metadata": {}
    },
    {
      "cell_type": "markdown",
      "source": [
        "### Harmonic centrality\n",
        "\n",
        "Harmonic centrality is similar to closeness centrality but uses a slightly different scoring mechanism designed to handle disconnected components more cleanly."
      ],
      "metadata": {}
    },
    {
      "cell_type": "code",
      "source": [
        "sorted_hc = sorted(nxneo4j.centrality.harmonic_centrality(G).items(), key=lambda x: x[1], reverse=True)\n",
        "for character, score in sorted_hc[:10]:\n",
        "    print(character, score)"
      ],
      "outputs": [
        {
          "output_type": "stream",
          "name": "stdout",
          "text": [
            "Tyrion-Lannister 0.5383647798742138\n",
            "Jon-Snow 0.5130817610062893\n",
            "Cersei-Lannister 0.5121593291404611\n",
            "Jaime-Lannister 0.5115723270440251\n",
            "Eddard-Stark 0.5029350104821804\n",
            "Stannis-Baratheon 0.5000628930817609\n",
            "Robert-Baratheon 0.49976939203354304\n",
            "Robb-Stark 0.49392033542976943\n",
            "Arya-Stark 0.4883857442348009\n",
            "Catelyn-Stark 0.48727463312368974\n"
          ]
        }
      ],
      "execution_count": 42,
      "metadata": {}
    },
    {
      "cell_type": "markdown",
      "source": [
        "## Pathfinding \n",
        "\n",
        "Our next category of algorithms are used for path finding.\n",
        "\n",
        "### Shortest Path\n",
        "\n",
        "What if we want to find the shortest path between two characters?"
      ],
      "metadata": {}
    },
    {
      "cell_type": "code",
      "source": [
        "nxneo4j.path_finding.shortest_path(G, \"Tyrion-Lannister\", \"Hodor\")"
      ],
      "outputs": [
        {
          "output_type": "execute_result",
          "execution_count": 27,
          "data": {
            "text/plain": [
              "['Tyrion-Lannister', 'Bran-Stark', 'Hodor']"
            ]
          },
          "metadata": {}
        }
      ],
      "execution_count": 27,
      "metadata": {}
    },
    {
      "cell_type": "markdown",
      "source": [
        "Notice that we refer to nodes by their name property — this is where the `identifier_property` that we defined in our config map is used.\n",
        "\n",
        "## Label Propagation\n",
        "\n",
        "We can also partition the characters into communities using the label propagation algorithm:"
      ],
      "metadata": {}
    },
    {
      "cell_type": "code",
      "source": [
        "communities = nxneo4j.community.label_propagation_communities(G)\n",
        "sorted_communities = sorted(communities, key=lambda x: len(x), reverse=True)\n",
        "for community in sorted_communities[:10]:\n",
        "    print(list(community)[:10])"
      ],
      "outputs": [
        {
          "output_type": "stream",
          "name": "stdout",
          "text": [
            "['Varys', 'Shagga', 'Orton-Merryweather', 'Rolph-Spicer', 'Aemon-Targaryen-(Dragonknight)', 'Garrett-Paege', 'Shitmouth', 'Daven-Lannister', 'Garth-(Wolfs-Den)', 'Leona-Woolfield']\n",
            "['Gerold-Dayne', 'Quhuru-Mo', 'Godric-Borrell', 'Devan-Seaworth', 'Marwyn', 'Gilly', 'Khorane-Sathmantes', 'Xhondo', 'Alester-Florent', 'Arthor-Karstark']\n",
            "['Tycho-Nestoris', 'Arron', 'Maekar-I-Targaryen', 'Satin', 'Ulmer', 'Brandon-Norrey', 'Raymun-Redbeard', 'Craster', 'Bedwyck', 'Wynton-Stout']\n",
            "['Alayaya', 'Allar-Deem', 'Cedric-Payne', 'Morgo', 'Eustace-Brune', 'Ballabar', 'Benerro', 'Vylarr', 'Jon-Connington', 'Podrick-Payne']\n",
            "['Walder-Frey-(son-of-Merrett)', 'Squirrel', 'Barbrey-Dustin', 'Kyra', 'Sybelle-Glover', 'Sour-Alyn', 'Dagmer', 'Tristifer-Botley', 'Mikken', 'Stygg']\n",
            "['Rodrik-Harlaw', 'Rodrik-Sparr', 'Talbert-Serry', 'Gormond-Goodbrother', 'Moqorro', 'Balon-Greyjoy', 'Victarion-Greyjoy', 'Gorold-Goodbrother', 'Baelor-Blacktyde', 'Hotho-Harlaw']\n",
            "['Tomard', 'Mya-Stone', 'Petyr-Baelish', 'Yohn-Royce', 'Marillion', 'Loras-Tyrell', 'Anya-Waynwood', 'Gretchel', 'Harrold-Hardyng', 'Nestor-Royce']\n",
            "['Harren-Hoare', 'Utherydes-Wayn', 'Desmond-Grell', 'Steffon-Baratheon', 'Renly-Baratheon', 'Galbart-Glover', 'High-Sparrow', 'Hallis-Mollen', 'Bryce-Caron', 'Nan']\n",
            "['Lysono-Maar', 'Cleon', 'Lynesse-Hightower', 'Arstan', 'Mero', 'Daeron-II-Targaryen', 'Daario-Naharis', 'Kraznys-mo-Nakloz', 'Xaro-Xhoan-Daxos', 'Daenerys-Targaryen']\n",
            "['Brusco', 'Mad-Huntsman', 'Pate-(Old)', 'Bellegere-Otherys', 'Meralyn', 'Amabel', 'Waif', 'Umma', 'Praed', 'Ternesio-Terys']\n"
          ]
        }
      ],
      "execution_count": 28,
      "metadata": {}
    },
    {
      "cell_type": "markdown",
      "source": [
        "Characters are in the same community as those other characters with whom they frequently interact. The idea is that characters have closer ties to those in their community than to those outside."
      ],
      "metadata": {}
    },
    {
      "cell_type": "markdown",
      "source": [
        "### Number of connected components\n",
        "\n",
        "We can work out the number of connected components (via the Union Find algorithm):"
      ],
      "metadata": {}
    },
    {
      "cell_type": "code",
      "source": [
        "nxneo4j.community.number_connected_components(G)"
      ],
      "outputs": [
        {
          "output_type": "execute_result",
          "execution_count": 44,
          "data": {
            "text/plain": [
              "149"
            ]
          },
          "metadata": {}
        }
      ],
      "execution_count": 44,
      "metadata": {}
    },
    {
      "cell_type": "markdown",
      "source": [
        "### Connected Components\n",
        "\n",
        "And we can find the characters in each of those components:"
      ],
      "metadata": {}
    },
    {
      "cell_type": "code",
      "source": [
        "components = nxneo4j.community.connected_components(G)\n",
        "sorted_components = sorted(components, key=lambda x: len(x), reverse=True)\n",
        "for component in sorted_components[:10]:\n",
        "    print(list(component)[:10])"
      ],
      "outputs": [
        {
          "output_type": "stream",
          "name": "stdout",
          "text": [
            "['Varys', 'Shagga', 'Orton-Merryweather', 'Rolph-Spicer', 'Aemon-Targaryen-(Dragonknight)', 'Garrett-Paege', 'Shitmouth', 'Daven-Lannister', 'Rafford', 'Garth-(Wolfs-Den)']\n",
            "['Gerold-Dayne', 'Quhuru-Mo', 'Godric-Borrell', 'Devan-Seaworth', 'Marwyn', 'Gilly', 'Khorane-Sathmantes', 'Xhondo', 'Alester-Florent', 'Arthor-Karstark']\n",
            "['Alayaya', 'Allar-Deem', 'Cedric-Payne', 'Morgo', 'Eustace-Brune', 'Ballabar', 'Benerro', 'Vylarr', 'Jon-Connington', 'Podrick-Payne']\n",
            "['Tycho-Nestoris', 'Arron', 'Maekar-I-Targaryen', 'Satin', 'Ulmer', 'Brandon-Norrey', 'Raymun-Redbeard', 'Craster', 'Bedwyck', 'Wynton-Stout']\n",
            "['Walder-Frey-(son-of-Merrett)', 'Squirrel', 'Barbrey-Dustin', 'Kyra', 'Sybelle-Glover', 'Sour-Alyn', 'Dagmer', 'Tristifer-Botley', 'Mikken', 'Stygg']\n",
            "['Rodrik-Harlaw', 'Rodrik-Sparr', 'Talbert-Serry', 'Gormond-Goodbrother', 'Moqorro', 'Balon-Greyjoy', 'Victarion-Greyjoy', 'Gorold-Goodbrother', 'Baelor-Blacktyde', 'Hotho-Harlaw']\n",
            "['Tomard', 'Benedar-Belmore', 'Mya-Stone', 'Petyr-Baelish', 'Yohn-Royce', 'Marillion', 'Loras-Tyrell', 'Anya-Waynwood', 'Harrold-Hardyng', 'Nestor-Royce']\n",
            "['Harren-Hoare', 'Utherydes-Wayn', 'Desmond-Grell', 'Steffon-Baratheon', 'Renly-Baratheon', 'Galbart-Glover', 'High-Sparrow', 'Hallis-Mollen', 'Bryce-Caron', 'Nan']\n",
            "['Lysono-Maar', 'Cleon', 'Lynesse-Hightower', 'Arstan', 'Mero', 'Daeron-II-Targaryen', 'Daario-Naharis', 'Kraznys-mo-Nakloz', 'Xaro-Xhoan-Daxos', 'Daenerys-Targaryen']\n",
            "['Brusco', 'Mad-Huntsman', 'Pate-(Old)', 'Bellegere-Otherys', 'Meralyn', 'Amabel', 'Waif', 'Umma', 'Praed', 'Ternesio-Terys']\n"
          ]
        }
      ],
      "execution_count": 49,
      "metadata": {}
    },
    {
      "cell_type": "markdown",
      "source": [
        "### Clustering\n",
        "\n",
        "We can calculate the clustering coefficient for each character.\n",
        "A clustering coefficient of '1' means that all characters that interact with that character also interact with each other:"
      ],
      "metadata": {}
    },
    {
      "cell_type": "code",
      "source": [
        "biggest_coefficient = sorted(nxneo4j.community.clustering(G).items(), key=lambda x: x[1], reverse=True)\n",
        "for character in biggest_coefficient[:10]:\n",
        "    print(list(character)[:10])"
      ],
      "outputs": [
        {
          "output_type": "stream",
          "name": "stdout",
          "text": [
            "['Albett', 1.0]\n",
            "['Chella', 1.0]\n",
            "['Chiggen', 1.0]\n",
            "['Clement-Piper', 1.0]\n",
            "['Cohollo', 1.0]\n",
            "['Daryn-Hornwood', 1.0]\n",
            "['Desmond', 1.0]\n",
            "['Eon-Hunter', 1.0]\n",
            "['Heward', 1.0]\n",
            "['High-Septon-(fat_one)', 1.0]\n"
          ]
        }
      ],
      "execution_count": 59,
      "metadata": {}
    },
    {
      "cell_type": "code",
      "source": [
        "smallest_coefficient = sorted(nxneo4j.community.clustering(G).items(), key=lambda x: x[1])\n",
        "for character in smallest_coefficient[:10]:\n",
        "    print(list(character)[:10])"
      ],
      "outputs": [
        {
          "output_type": "stream",
          "name": "stdout",
          "text": [
            "['Dolf', 0.0]\n",
            "['Fogo', 0.0]\n",
            "['Gunthor-son-of-Gurn', 0.0]\n",
            "['Hugh', 0.0]\n",
            "['Jafer-Flowers', 0.0]\n",
            "['Kurleket', 0.0]\n",
            "['Leo-Lefford', 0.0]\n",
            "['Mord', 0.0]\n",
            "['Hali', 0.0]\n",
            "['Rickard-Stark', 0.0]\n"
          ]
        }
      ],
      "execution_count": 58,
      "metadata": {}
    },
    {
      "cell_type": "markdown",
      "source": [
        "### Average Clustering Coefficient\n",
        "\n",
        "We can also work out the average clustering coefficient across all characters:"
      ],
      "metadata": {}
    },
    {
      "cell_type": "code",
      "source": [
        "nxneo4j.community.average_clustering(G)"
      ],
      "outputs": [
        {
          "output_type": "execute_result",
          "execution_count": 63,
          "data": {
            "text/plain": [
              "0.4858622073350485"
            ]
          },
          "metadata": {}
        }
      ],
      "execution_count": 63,
      "metadata": {}
    }
  ],
  "metadata": {
    "kernelspec": {
      "display_name": "Python 3",
      "language": "python",
      "name": "python3"
    },
    "language_info": {
      "name": "python",
      "version": "3.7.6",
      "mimetype": "text/x-python",
      "codemirror_mode": {
        "name": "ipython",
        "version": 3
      },
      "pygments_lexer": "ipython3",
      "nbconvert_exporter": "python",
      "file_extension": ".py"
    },
    "nteract": {
      "version": "0.23.1"
    }
  },
  "nbformat": 4,
  "nbformat_minor": 2
}